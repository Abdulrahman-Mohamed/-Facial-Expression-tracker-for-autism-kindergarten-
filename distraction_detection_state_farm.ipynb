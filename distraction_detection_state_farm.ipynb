{
  "nbformat": 4,
  "nbformat_minor": 0,
  "metadata": {
    "kernelspec": {
      "language": "python",
      "display_name": "Python 3",
      "name": "python3"
    },
    "language_info": {
      "name": "python",
      "version": "3.7.9",
      "mimetype": "text/x-python",
      "codemirror_mode": {
        "name": "ipython",
        "version": 3
      },
      "pygments_lexer": "ipython3",
      "nbconvert_exporter": "python",
      "file_extension": ".py"
    },
    "colab": {
      "name": "distraction detection state farm VGG16  full.ipynb",
      "provenance": [],
      "collapsed_sections": [],
      "include_colab_link": true
    }
  },
  "cells": [
    {
      "cell_type": "markdown",
      "metadata": {
        "id": "view-in-github",
        "colab_type": "text"
      },
      "source": [
        "<a href=\"https://colab.research.google.com/github/Abdulrahman-Mohamed/-Facial-Expression-tracker-for-autism-kindergarten-/blob/main/distraction_detection_state_farm.ipynb\" target=\"_parent\"><img src=\"https://colab.research.google.com/assets/colab-badge.svg\" alt=\"Open In Colab\"/></a>"
      ]
    },
    {
      "cell_type": "markdown",
      "metadata": {
        "id": "UkNn0xoblGOw"
      },
      "source": [
        "# Importing Libraries"
      ]
    },
    {
      "cell_type": "code",
      "metadata": {
        "execution": {
          "iopub.status.busy": "2021-05-28T14:26:28.063811Z",
          "iopub.execute_input": "2021-05-28T14:26:28.064184Z",
          "iopub.status.idle": "2021-05-28T14:26:34.824066Z",
          "shell.execute_reply.started": "2021-05-28T14:26:28.064108Z",
          "shell.execute_reply": "2021-05-28T14:26:34.823199Z"
        },
        "trusted": true,
        "id": "5LqZGAjZlGOw"
      },
      "source": [
        "import os\n",
        "import pandas as pd\n",
        "import pickle\n",
        "import shutil\n",
        "import numpy as np\n",
        "import seaborn as sns\n",
        "from sklearn.datasets import load_files\n",
        "from keras.utils import np_utils\n",
        "import matplotlib.pyplot as plt\n",
        "from keras.layers import Conv2D, MaxPooling2D, GlobalAveragePooling2D\n",
        "from keras.layers import Dropout, Flatten, Dense\n",
        "from keras.models import Sequential\n",
        "from keras.utils.vis_utils import plot_model\n",
        "from keras.callbacks import ModelCheckpoint\n",
        "from keras.utils import to_categorical\n",
        "from sklearn.metrics import confusion_matrix\n",
        "from sklearn.metrics import accuracy_score,precision_score,recall_score,f1_score\n",
        "\n",
        "\n",
        "from PIL import ImageFile   \n",
        "from sklearn.model_selection import train_test_split\n",
        "from keras.preprocessing import image                  \n",
        "from tqdm import tqdm\n",
        "\n",
        "from keras.applications.vgg16 import VGG16"
      ],
      "execution_count": null,
      "outputs": []
    },
    {
      "cell_type": "markdown",
      "metadata": {
        "id": "i9AL7Wx5lGOx"
      },
      "source": [
        "# Defining the train,test and model directories\n",
        "\n",
        "* We will create the directories for train,test and model training paths if not present"
      ]
    },
    {
      "cell_type": "code",
      "metadata": {
        "execution": {
          "iopub.status.busy": "2021-05-28T14:26:37.705432Z",
          "iopub.execute_input": "2021-05-28T14:26:37.705721Z",
          "iopub.status.idle": "2021-05-28T14:26:37.817957Z",
          "shell.execute_reply.started": "2021-05-28T14:26:37.705692Z",
          "shell.execute_reply": "2021-05-28T14:26:37.817152Z"
        },
        "trusted": true,
        "id": "R_5yTd9ZlGO0"
      },
      "source": [
        "data_train = pd.read_csv(TRAIN_CSV)\n",
        "data_test = pd.read_csv(TEST_CSV)"
      ],
      "execution_count": null,
      "outputs": []
    },
    {
      "cell_type": "code",
      "metadata": {
        "execution": {
          "iopub.status.busy": "2021-05-28T14:26:37.819765Z",
          "iopub.execute_input": "2021-05-28T14:26:37.820199Z",
          "iopub.status.idle": "2021-05-28T14:26:37.859329Z",
          "shell.execute_reply.started": "2021-05-28T14:26:37.820161Z",
          "shell.execute_reply": "2021-05-28T14:26:37.858412Z"
        },
        "trusted": true,
        "id": "Jk2SpRQ_lGO1",
        "outputId": "7ff35511-442d-4cfc-e612-e52d6311ce61"
      },
      "source": [
        "labels_list = list(set(data_train['ClassName'].values.tolist()))\n",
        "labels_id = {label_name:id for id,label_name in enumerate(labels_list)}\n",
        "print(labels_id)\n",
        "data_train['ClassName'].replace(labels_id,inplace=True)\n",
        "\n",
        "labels = to_categorical(data_train['ClassName'])\n",
        "print(labels.shape)\n",
        "\n",
        "with open(os.path.join(PICKLE_PATH,\"labels_list_vgg16.pkl\"),\"wb\") as handle:\n",
        "    pickle.dump(labels_id,handle)"
      ],
      "execution_count": null,
      "outputs": [
        {
          "output_type": "stream",
          "text": [
            "{'c4': 0, 'c6': 1, 'c2': 2, 'c7': 3, 'c9': 4, 'c8': 5, 'c3': 6, 'c1': 7, 'c5': 8, 'c0': 9}\n",
            "(22424, 10)\n"
          ],
          "name": "stdout"
        }
      ]
    },
    {
      "cell_type": "markdown",
      "metadata": {
        "id": "GeMtkF-9lGO1"
      },
      "source": [
        "# Data Preparation\n",
        "\n",
        "1. Converting the all the train and test images into image size of 128,128,3 \n",
        "2. Standardizing the flattened image vector "
      ]
    },
    {
      "cell_type": "code",
      "metadata": {
        "execution": {
          "iopub.status.busy": "2021-05-28T14:26:37.860642Z",
          "iopub.execute_input": "2021-05-28T14:26:37.861009Z",
          "iopub.status.idle": "2021-05-28T14:26:37.872396Z",
          "shell.execute_reply.started": "2021-05-28T14:26:37.860974Z",
          "shell.execute_reply": "2021-05-28T14:26:37.871564Z"
        },
        "trusted": true,
        "id": "b12T8Rj-lGO1"
      },
      "source": [
        "xtrain,xtest,ytrain,ytest = train_test_split(data_train.iloc[:,0],labels,test_size = 0.2,random_state=42)\n",
        "def path_to_tensor_conversion(img_path):\n",
        "    # loads RGB image as PIL.Image.Image type\n",
        "    img = image.load_img(img_path, target_size=(128, 128))\n",
        "    # convert PIL.Image.Image type to 3D tensor with shape (128, 128, 3)\n",
        "    x = image.img_to_array(img)\n",
        "    # convert 3D tensor to 4D tensor with shape (1, 128, 128, 3) and return 4D tensor\n",
        "    return np.expand_dims(x, axis=0)\n",
        "\n",
        "def paths_to_tensor_conversion(img_paths):\n",
        "    list_of_tensors = [path_to_tensor_conversion(img_path) for img_path in tqdm(img_paths)]\n",
        "    return np.vstack(list_of_tensors)"
      ],
      "execution_count": null,
      "outputs": []
    },
    {
      "cell_type": "code",
      "metadata": {
        "execution": {
          "iopub.status.busy": "2021-05-28T14:26:37.873925Z",
          "iopub.execute_input": "2021-05-28T14:26:37.874508Z",
          "iopub.status.idle": "2021-05-28T14:30:11.752169Z",
          "shell.execute_reply.started": "2021-05-28T14:26:37.874468Z",
          "shell.execute_reply": "2021-05-28T14:30:11.751313Z"
        },
        "trusted": true,
        "id": "7rfqxN6TlGO2",
        "outputId": "dd8654ac-0a3d-4f04-ec16-d22a14a4c1e0"
      },
      "source": [
        "ImageFile.LOAD_TRUNCATED_IMAGES = True                 \n",
        "# pre-process the data for Keras\n",
        "train_tensors = paths_to_tensor_conversion(xtrain).astype('float32')/255 - 0.5\n",
        "valid_tensors = paths_to_tensor_conversion(xtest).astype('float32')/255 - 0.5"
      ],
      "execution_count": null,
      "outputs": [
        {
          "output_type": "stream",
          "text": [
            "100%|██████████| 17939/17939 [02:48<00:00, 106.21it/s]\n",
            "100%|██████████| 4485/4485 [00:41<00:00, 108.53it/s]\n"
          ],
          "name": "stderr"
        }
      ]
    },
    {
      "cell_type": "code",
      "metadata": {
        "execution": {
          "iopub.status.busy": "2021-05-28T14:30:11.753506Z",
          "iopub.execute_input": "2021-05-28T14:30:11.753901Z",
          "iopub.status.idle": "2021-05-28T14:30:11.759663Z",
          "shell.execute_reply.started": "2021-05-28T14:30:11.753850Z",
          "shell.execute_reply": "2021-05-28T14:30:11.758844Z"
        },
        "trusted": true,
        "id": "CPMg-w-1lGO2",
        "outputId": "e31fdce5-478c-468f-b926-c5d2adcdc6f8"
      },
      "source": [
        "valid_tensors[0].shape"
      ],
      "execution_count": null,
      "outputs": [
        {
          "output_type": "execute_result",
          "data": {
            "text/plain": [
              "(128, 128, 3)"
            ]
          },
          "metadata": {
            "tags": []
          },
          "execution_count": 10
        }
      ]
    },
    {
      "cell_type": "markdown",
      "metadata": {
        "id": "JDQcFwH8lGO3"
      },
      "source": [
        "# MODEL ARCHITECTURE\n"
      ]
    },
    {
      "cell_type": "code",
      "metadata": {
        "scrolled": true,
        "execution": {
          "iopub.status.busy": "2021-05-28T14:30:11.761050Z",
          "iopub.execute_input": "2021-05-28T14:30:11.761576Z",
          "iopub.status.idle": "2021-05-28T14:30:15.058125Z",
          "shell.execute_reply.started": "2021-05-28T14:30:11.761538Z",
          "shell.execute_reply": "2021-05-28T14:30:15.056114Z"
        },
        "trusted": true,
        "id": "A4xpm_1zlGO3",
        "outputId": "8afeab96-a207-4132-983f-873a7fb581d0"
      },
      "source": [
        "model = VGG16(include_top=False)\n",
        "model.summary()"
      ],
      "execution_count": null,
      "outputs": [
        {
          "output_type": "stream",
          "text": [
            "Downloading data from https://storage.googleapis.com/tensorflow/keras-applications/vgg16/vgg16_weights_tf_dim_ordering_tf_kernels_notop.h5\n",
            "58892288/58889256 [==============================] - 0s 0us/step\n",
            "Model: \"vgg16\"\n",
            "_________________________________________________________________\n",
            "Layer (type)                 Output Shape              Param #   \n",
            "=================================================================\n",
            "input_1 (InputLayer)         [(None, None, None, 3)]   0         \n",
            "_________________________________________________________________\n",
            "block1_conv1 (Conv2D)        (None, None, None, 64)    1792      \n",
            "_________________________________________________________________\n",
            "block1_conv2 (Conv2D)        (None, None, None, 64)    36928     \n",
            "_________________________________________________________________\n",
            "block1_pool (MaxPooling2D)   (None, None, None, 64)    0         \n",
            "_________________________________________________________________\n",
            "block2_conv1 (Conv2D)        (None, None, None, 128)   73856     \n",
            "_________________________________________________________________\n",
            "block2_conv2 (Conv2D)        (None, None, None, 128)   147584    \n",
            "_________________________________________________________________\n",
            "block2_pool (MaxPooling2D)   (None, None, None, 128)   0         \n",
            "_________________________________________________________________\n",
            "block3_conv1 (Conv2D)        (None, None, None, 256)   295168    \n",
            "_________________________________________________________________\n",
            "block3_conv2 (Conv2D)        (None, None, None, 256)   590080    \n",
            "_________________________________________________________________\n",
            "block3_conv3 (Conv2D)        (None, None, None, 256)   590080    \n",
            "_________________________________________________________________\n",
            "block3_pool (MaxPooling2D)   (None, None, None, 256)   0         \n",
            "_________________________________________________________________\n",
            "block4_conv1 (Conv2D)        (None, None, None, 512)   1180160   \n",
            "_________________________________________________________________\n",
            "block4_conv2 (Conv2D)        (None, None, None, 512)   2359808   \n",
            "_________________________________________________________________\n",
            "block4_conv3 (Conv2D)        (None, None, None, 512)   2359808   \n",
            "_________________________________________________________________\n",
            "block4_pool (MaxPooling2D)   (None, None, None, 512)   0         \n",
            "_________________________________________________________________\n",
            "block5_conv1 (Conv2D)        (None, None, None, 512)   2359808   \n",
            "_________________________________________________________________\n",
            "block5_conv2 (Conv2D)        (None, None, None, 512)   2359808   \n",
            "_________________________________________________________________\n",
            "block5_conv3 (Conv2D)        (None, None, None, 512)   2359808   \n",
            "_________________________________________________________________\n",
            "block5_pool (MaxPooling2D)   (None, None, None, 512)   0         \n",
            "=================================================================\n",
            "Total params: 14,714,688\n",
            "Trainable params: 14,714,688\n",
            "Non-trainable params: 0\n",
            "_________________________________________________________________\n"
          ],
          "name": "stdout"
        }
      ]
    },
    {
      "cell_type": "code",
      "metadata": {
        "scrolled": true,
        "execution": {
          "iopub.status.busy": "2021-05-28T14:30:15.059315Z",
          "iopub.execute_input": "2021-05-28T14:30:15.059633Z",
          "iopub.status.idle": "2021-05-28T14:30:38.955354Z",
          "shell.execute_reply.started": "2021-05-28T14:30:15.059590Z",
          "shell.execute_reply": "2021-05-28T14:30:38.954411Z"
        },
        "trusted": true,
        "id": "TOlW_af0lGO3",
        "outputId": "9dc14a2a-cdff-4271-b0d6-4459057a15a3"
      },
      "source": [
        "train_vgg16 = model.predict(train_tensors,verbose=1)\n",
        "valid_vgg16 = model.predict(valid_tensors,verbose=1)"
      ],
      "execution_count": null,
      "outputs": [
        {
          "output_type": "stream",
          "text": [
            "561/561 [==============================] - 17s 23ms/step\n",
            "141/141 [==============================] - 3s 23ms/step\n"
          ],
          "name": "stdout"
        }
      ]
    },
    {
      "cell_type": "code",
      "metadata": {
        "execution": {
          "iopub.status.busy": "2021-05-28T14:30:38.957116Z",
          "iopub.execute_input": "2021-05-28T14:30:38.957500Z",
          "iopub.status.idle": "2021-05-28T14:30:38.963594Z",
          "shell.execute_reply.started": "2021-05-28T14:30:38.957461Z",
          "shell.execute_reply": "2021-05-28T14:30:38.962406Z"
        },
        "trusted": true,
        "id": "5qEiYwA7lGO4",
        "outputId": "0fa5f9e6-5304-4579-e723-5c291a726284"
      },
      "source": [
        "print(\"Train shape\",train_vgg16.shape)\n",
        "print(\"Validation shape\",valid_vgg16.shape)"
      ],
      "execution_count": null,
      "outputs": [
        {
          "output_type": "stream",
          "text": [
            "Train shape (17939, 4, 4, 512)\n",
            "Validation shape (4485, 4, 4, 512)\n"
          ],
          "name": "stdout"
        }
      ]
    },
    {
      "cell_type": "code",
      "metadata": {
        "execution": {
          "iopub.status.busy": "2021-05-28T14:30:38.965010Z",
          "iopub.execute_input": "2021-05-28T14:30:38.965401Z",
          "iopub.status.idle": "2021-05-28T14:30:38.974857Z",
          "shell.execute_reply.started": "2021-05-28T14:30:38.965364Z",
          "shell.execute_reply": "2021-05-28T14:30:38.974017Z"
        },
        "trusted": true,
        "id": "uMSET7Y0lGO4"
      },
      "source": [
        "train_features = train_vgg16[0]\n",
        "valid_features = valid_vgg16[0]"
      ],
      "execution_count": null,
      "outputs": []
    },
    {
      "cell_type": "code",
      "metadata": {
        "scrolled": true,
        "execution": {
          "iopub.status.busy": "2021-05-28T14:30:38.976395Z",
          "iopub.execute_input": "2021-05-28T14:30:38.976956Z",
          "iopub.status.idle": "2021-05-28T14:30:38.984777Z",
          "shell.execute_reply.started": "2021-05-28T14:30:38.976920Z",
          "shell.execute_reply": "2021-05-28T14:30:38.983908Z"
        },
        "trusted": true,
        "id": "Tepal8Y4lGO4",
        "outputId": "c74b6dcd-8146-4e15-9a00-9ca6d7cd6d14"
      },
      "source": [
        "print(\"Train features shape\",train_features.shape)\n",
        "print(\"Validation features shape\",valid_features.shape)"
      ],
      "execution_count": null,
      "outputs": [
        {
          "output_type": "stream",
          "text": [
            "Train features shape (4, 4, 512)\n",
            "Validation features shape (4, 4, 512)\n"
          ],
          "name": "stdout"
        }
      ]
    },
    {
      "cell_type": "code",
      "metadata": {
        "execution": {
          "iopub.status.busy": "2021-05-28T14:30:38.986327Z",
          "iopub.execute_input": "2021-05-28T14:30:38.987027Z",
          "iopub.status.idle": "2021-05-28T14:30:39.035033Z",
          "shell.execute_reply.started": "2021-05-28T14:30:38.986974Z",
          "shell.execute_reply": "2021-05-28T14:30:39.033693Z"
        },
        "trusted": true,
        "id": "wtIHYxQXlGO4",
        "outputId": "7540944b-8021-4f7c-e5e2-b739495f2e8e"
      },
      "source": [
        "\n",
        "vgg16_model_modified = Sequential()\n",
        "vgg16_model_modified.add(Flatten(input_shape=train_features.shape))\n",
        "vgg16_model_modified.add(Dense(500, activation='relu',kernel_initializer='glorot_normal'))\n",
        "vgg16_model_modified.add(Dropout(0.5))\n",
        "vgg16_model_modified.add(Dense(10, activation='softmax',kernel_initializer='glorot_normal'))\n",
        "\n",
        "vgg16_model_modified.summary()"
      ],
      "execution_count": null,
      "outputs": [
        {
          "output_type": "stream",
          "text": [
            "Model: \"sequential\"\n",
            "_________________________________________________________________\n",
            "Layer (type)                 Output Shape              Param #   \n",
            "=================================================================\n",
            "flatten (Flatten)            (None, 8192)              0         \n",
            "_________________________________________________________________\n",
            "dense (Dense)                (None, 500)               4096500   \n",
            "_________________________________________________________________\n",
            "dropout (Dropout)            (None, 500)               0         \n",
            "_________________________________________________________________\n",
            "dense_1 (Dense)              (None, 10)                5010      \n",
            "=================================================================\n",
            "Total params: 4,101,510\n",
            "Trainable params: 4,101,510\n",
            "Non-trainable params: 0\n",
            "_________________________________________________________________\n"
          ],
          "name": "stdout"
        }
      ]
    },
    {
      "cell_type": "code",
      "metadata": {
        "execution": {
          "iopub.status.busy": "2021-05-28T14:30:39.037616Z",
          "iopub.execute_input": "2021-05-28T14:30:39.037973Z",
          "iopub.status.idle": "2021-05-28T14:30:39.057356Z",
          "shell.execute_reply.started": "2021-05-28T14:30:39.037938Z",
          "shell.execute_reply": "2021-05-28T14:30:39.056340Z"
        },
        "trusted": true,
        "id": "t81znHGZlGO5"
      },
      "source": [
        "vgg16_model_modified.compile(loss='categorical_crossentropy', optimizer='rmsprop', metrics=['accuracy'])"
      ],
      "execution_count": null,
      "outputs": []
    },
    {
      "cell_type": "code",
      "metadata": {
        "execution": {
          "iopub.status.busy": "2021-05-28T14:30:39.058615Z",
          "iopub.execute_input": "2021-05-28T14:30:39.059056Z",
          "iopub.status.idle": "2021-05-28T14:30:39.929845Z",
          "shell.execute_reply.started": "2021-05-28T14:30:39.059019Z",
          "shell.execute_reply": "2021-05-28T14:30:39.928856Z"
        },
        "trusted": true,
        "id": "mwbwHW1jlGO5",
        "outputId": "78d276f5-846f-4a31-c1d4-b0f60200e59c"
      },
      "source": [
        "plot_model(vgg16_model_modified,to_file=os.path.join(os.getcwd(),\"model\",\"vgg16\",\"model_distracted_driver_vgg16.png\"),show_shapes=True,show_layer_names=True)"
      ],
      "execution_count": null,
      "outputs": [
        {
          "output_type": "execute_result",
          "data": {
            "image/png": "[encoded data removed]",
            "text/plain": [
              "<IPython.core.display.Image object>"
            ]
          },
          "metadata": {
            "tags": []
          },
          "execution_count": 18
        }
      ]
    },
    {
      "cell_type": "code",
      "metadata": {
        "execution": {
          "iopub.status.busy": "2021-05-28T14:30:39.931733Z",
          "iopub.execute_input": "2021-05-28T14:30:39.932468Z",
          "iopub.status.idle": "2021-05-28T14:30:39.939557Z",
          "shell.execute_reply.started": "2021-05-28T14:30:39.932424Z",
          "shell.execute_reply": "2021-05-28T14:30:39.938189Z"
        },
        "trusted": true,
        "id": "icziBznUlGO5"
      },
      "source": [
        "filepath = os.path.join(MODEL_PATH,\"distracted-{epoch:02d}-{val_accuracy:.2f}.hdf5\")\n",
        "checkpoint = ModelCheckpoint(filepath, monitor='val_accuracy', verbose=1, save_best_only=True, mode='max',period=1)\n",
        "callbacks_list = [checkpoint]"
      ],
      "execution_count": null,
      "outputs": []
    },
    {
      "cell_type": "code",
      "metadata": {
        "execution": {
          "iopub.status.busy": "2021-05-28T14:30:39.941227Z",
          "iopub.execute_input": "2021-05-28T14:30:39.941684Z",
          "iopub.status.idle": "2021-05-28T14:30:39.952300Z",
          "shell.execute_reply.started": "2021-05-28T14:30:39.941649Z",
          "shell.execute_reply": "2021-05-28T14:30:39.951460Z"
        },
        "trusted": true,
        "id": "B9n7JQ5clGO5",
        "outputId": "eeca372a-7f97-4bb9-807a-365af13d398a"
      },
      "source": [
        "train_vgg16[0].shape"
      ],
      "execution_count": null,
      "outputs": [
        {
          "output_type": "execute_result",
          "data": {
            "text/plain": [
              "(4, 4, 512)"
            ]
          },
          "metadata": {
            "tags": []
          },
          "execution_count": 20
        }
      ]
    },
    {
      "cell_type": "code",
      "metadata": {
        "execution": {
          "iopub.status.busy": "2021-05-28T14:30:39.953961Z",
          "iopub.execute_input": "2021-05-28T14:30:39.954752Z",
          "iopub.status.idle": "2021-05-28T14:36:00.454221Z",
          "shell.execute_reply.started": "2021-05-28T14:30:39.954685Z",
          "shell.execute_reply": "2021-05-28T14:36:00.453112Z"
        },
        "trusted": true,
        "id": "4G3vCTP4lGO5",
        "outputId": "7eeb04e5-31bb-43c6-e51d-1fa24f212ee1"
      },
      "source": [
        "model_history = vgg16_model_modified.fit(train_vgg16,ytrain,validation_data = (valid_vgg16, ytest),epochs=75, batch_size=16, shuffle=True,callbacks=callbacks_list)"
      ],
      "execution_count": null,
      "outputs": [
        {
          "output_type": "stream",
          "text": [
            "Epoch 1/75\n",
            "1122/1122 [==============================] - 5s 4ms/step - loss: 1.7218 - accuracy: 0.5163 - val_loss: 0.2432 - val_accuracy: 0.9164\n",
            "\n",
            "Epoch 00001: val_accuracy improved from -inf to 0.91639, saving model to /kaggle/working/model/vgg16/distracted-01-0.92.hdf5\n",
            "Epoch 2/75\n",
            "1122/1122 [==============================] - 4s 4ms/step - loss: 0.3284 - accuracy: 0.8961 - val_loss: 0.1682 - val_accuracy: 0.9476\n",
            "\n",
            "Epoch 00002: val_accuracy improved from 0.91639 to 0.94760, saving model to /kaggle/working/model/vgg16/distracted-02-0.95.hdf5\n",
            "Epoch 3/75\n",
            "1122/1122 [==============================] - 4s 4ms/step - loss: 0.2555 - accuracy: 0.9230 - val_loss: 0.0899 - val_accuracy: 0.9784\n",
            "\n",
            "Epoch 00003: val_accuracy improved from 0.94760 to 0.97837, saving model to /kaggle/working/model/vgg16/distracted-03-0.98.hdf5\n",
            "Epoch 4/75\n",
            "1122/1122 [==============================] - 4s 4ms/step - loss: 0.2239 - accuracy: 0.9384 - val_loss: 0.0501 - val_accuracy: 0.9891\n",
            "\n",
            "Epoch 00004: val_accuracy improved from 0.97837 to 0.98907, saving model to /kaggle/working/model/vgg16/distracted-04-0.99.hdf5\n",
            "Epoch 5/75\n",
            "1122/1122 [==============================] - 4s 4ms/step - loss: 0.1869 - accuracy: 0.9487 - val_loss: 0.0634 - val_accuracy: 0.9837\n",
            "\n",
            "Epoch 00005: val_accuracy did not improve from 0.98907\n",
            "Epoch 6/75\n",
            "1122/1122 [==============================] - 4s 4ms/step - loss: 0.1706 - accuracy: 0.9529 - val_loss: 0.0559 - val_accuracy: 0.9880\n",
            "\n",
            "Epoch 00006: val_accuracy did not improve from 0.98907\n",
            "Epoch 7/75\n",
            "1122/1122 [==============================] - 4s 4ms/step - loss: 0.1576 - accuracy: 0.9601 - val_loss: 0.0546 - val_accuracy: 0.9889\n",
            "\n",
            "Epoch 00007: val_accuracy did not improve from 0.98907\n",
            "Epoch 8/75\n",
            "1122/1122 [==============================] - 4s 4ms/step - loss: 0.1516 - accuracy: 0.9624 - val_loss: 0.0539 - val_accuracy: 0.9884\n",
            "\n",
            "Epoch 00008: val_accuracy did not improve from 0.98907\n",
            "Epoch 9/75\n",
            "1122/1122 [==============================] - 4s 4ms/step - loss: 0.1639 - accuracy: 0.9613 - val_loss: 0.0456 - val_accuracy: 0.9913\n",
            "\n",
            "Epoch 00009: val_accuracy improved from 0.98907 to 0.99130, saving model to /kaggle/working/model/vgg16/distracted-09-0.99.hdf5\n",
            "Epoch 10/75\n",
            "1122/1122 [==============================] - 5s 4ms/step - loss: 0.1432 - accuracy: 0.9663 - val_loss: 0.0923 - val_accuracy: 0.9833\n",
            "\n",
            "Epoch 00010: val_accuracy did not improve from 0.99130\n",
            "Epoch 11/75\n",
            "1122/1122 [==============================] - 4s 4ms/step - loss: 0.1405 - accuracy: 0.9673 - val_loss: 0.0555 - val_accuracy: 0.9893\n",
            "\n",
            "Epoch 00011: val_accuracy did not improve from 0.99130\n",
            "Epoch 12/75\n",
            "1122/1122 [==============================] - 4s 4ms/step - loss: 0.1516 - accuracy: 0.9686 - val_loss: 0.0572 - val_accuracy: 0.9880\n",
            "\n",
            "Epoch 00012: val_accuracy did not improve from 0.99130\n",
            "Epoch 13/75\n",
            "1122/1122 [==============================] - 4s 4ms/step - loss: 0.1301 - accuracy: 0.9713 - val_loss: 0.0466 - val_accuracy: 0.9931\n",
            "\n",
            "Epoch 00013: val_accuracy improved from 0.99130 to 0.99309, saving model to /kaggle/working/model/vgg16/distracted-13-0.99.hdf5\n",
            "Epoch 14/75\n",
            "1122/1122 [==============================] - 4s 4ms/step - loss: 0.1592 - accuracy: 0.9682 - val_loss: 0.0685 - val_accuracy: 0.9904\n",
            "\n",
            "Epoch 00014: val_accuracy did not improve from 0.99309\n",
            "Epoch 15/75\n",
            "1122/1122 [==============================] - 4s 4ms/step - loss: 0.1397 - accuracy: 0.9716 - val_loss: 0.0545 - val_accuracy: 0.9918\n",
            "\n",
            "Epoch 00015: val_accuracy did not improve from 0.99309\n",
            "Epoch 16/75\n",
            "1122/1122 [==============================] - 4s 4ms/step - loss: 0.1466 - accuracy: 0.9727 - val_loss: 0.0600 - val_accuracy: 0.9922\n",
            "\n",
            "Epoch 00016: val_accuracy did not improve from 0.99309\n",
            "Epoch 17/75\n",
            "1122/1122 [==============================] - 5s 4ms/step - loss: 0.1293 - accuracy: 0.9757 - val_loss: 0.0698 - val_accuracy: 0.9895\n",
            "\n",
            "Epoch 00017: val_accuracy did not improve from 0.99309\n",
            "Epoch 18/75\n",
            "1122/1122 [==============================] - 4s 4ms/step - loss: 0.1276 - accuracy: 0.9761 - val_loss: 0.0615 - val_accuracy: 0.9915\n",
            "\n",
            "Epoch 00018: val_accuracy did not improve from 0.99309\n",
            "Epoch 19/75\n",
            "1122/1122 [==============================] - 4s 4ms/step - loss: 0.1451 - accuracy: 0.9730 - val_loss: 0.0666 - val_accuracy: 0.9918\n",
            "\n",
            "Epoch 00019: val_accuracy did not improve from 0.99309\n",
            "Epoch 20/75\n",
            "1122/1122 [==============================] - 4s 4ms/step - loss: 0.1293 - accuracy: 0.9745 - val_loss: 0.1001 - val_accuracy: 0.9886\n",
            "\n",
            "Epoch 00020: val_accuracy did not improve from 0.99309\n",
            "Epoch 21/75\n",
            "1122/1122 [==============================] - 4s 4ms/step - loss: 0.1279 - accuracy: 0.9796 - val_loss: 0.0710 - val_accuracy: 0.9918\n",
            "\n",
            "Epoch 00021: val_accuracy did not improve from 0.99309\n",
            "Epoch 22/75\n",
            "1122/1122 [==============================] - 4s 4ms/step - loss: 0.1216 - accuracy: 0.9765 - val_loss: 0.0762 - val_accuracy: 0.9922\n",
            "\n",
            "Epoch 00022: val_accuracy did not improve from 0.99309\n",
            "Epoch 23/75\n",
            "1122/1122 [==============================] - 4s 4ms/step - loss: 0.1025 - accuracy: 0.9807 - val_loss: 0.0606 - val_accuracy: 0.9929\n",
            "\n",
            "Epoch 00023: val_accuracy did not improve from 0.99309\n",
            "Epoch 24/75\n",
            "1122/1122 [==============================] - 4s 4ms/step - loss: 0.1492 - accuracy: 0.9771 - val_loss: 0.0658 - val_accuracy: 0.9926\n",
            "\n",
            "Epoch 00024: val_accuracy did not improve from 0.99309\n",
            "Epoch 25/75\n",
            "1122/1122 [==============================] - 5s 4ms/step - loss: 0.0975 - accuracy: 0.9832 - val_loss: 0.0815 - val_accuracy: 0.9880\n",
            "\n",
            "Epoch 00025: val_accuracy did not improve from 0.99309\n",
            "Epoch 26/75\n",
            "1122/1122 [==============================] - 4s 4ms/step - loss: 0.0992 - accuracy: 0.9833 - val_loss: 0.0613 - val_accuracy: 0.9938\n",
            "\n",
            "Epoch 00026: val_accuracy improved from 0.99309 to 0.99376, saving model to /kaggle/working/model/vgg16/distracted-26-0.99.hdf5\n",
            "Epoch 27/75\n",
            "1122/1122 [==============================] - 4s 4ms/step - loss: 0.1231 - accuracy: 0.9808 - val_loss: 0.0844 - val_accuracy: 0.9911\n",
            "\n",
            "Epoch 00027: val_accuracy did not improve from 0.99376\n",
            "Epoch 28/75\n",
            "1122/1122 [==============================] - 4s 4ms/step - loss: 0.1220 - accuracy: 0.9799 - val_loss: 0.0494 - val_accuracy: 0.9953\n",
            "\n",
            "Epoch 00028: val_accuracy improved from 0.99376 to 0.99532, saving model to /kaggle/working/model/vgg16/distracted-28-1.00.hdf5\n",
            "Epoch 29/75\n",
            "1122/1122 [==============================] - 4s 4ms/step - loss: 0.1069 - accuracy: 0.9812 - val_loss: 0.0547 - val_accuracy: 0.9931\n",
            "\n",
            "Epoch 00029: val_accuracy did not improve from 0.99532\n",
            "Epoch 30/75\n",
            "1122/1122 [==============================] - 4s 4ms/step - loss: 0.1036 - accuracy: 0.9837 - val_loss: 0.0822 - val_accuracy: 0.9922\n",
            "\n",
            "Epoch 00030: val_accuracy did not improve from 0.99532\n",
            "Epoch 31/75\n",
            "1122/1122 [==============================] - 4s 4ms/step - loss: 0.1062 - accuracy: 0.9833 - val_loss: 0.0592 - val_accuracy: 0.9935\n",
            "\n",
            "Epoch 00031: val_accuracy did not improve from 0.99532\n",
            "Epoch 32/75\n",
            "1122/1122 [==============================] - 4s 4ms/step - loss: 0.1066 - accuracy: 0.9829 - val_loss: 0.0549 - val_accuracy: 0.9942\n",
            "\n",
            "Epoch 00032: val_accuracy did not improve from 0.99532\n",
            "Epoch 33/75\n",
            "1122/1122 [==============================] - 5s 4ms/step - loss: 0.0987 - accuracy: 0.9836 - val_loss: 0.0621 - val_accuracy: 0.9933\n",
            "\n",
            "Epoch 00033: val_accuracy did not improve from 0.99532\n",
            "Epoch 34/75\n",
            "1122/1122 [==============================] - 4s 4ms/step - loss: 0.0914 - accuracy: 0.9845 - val_loss: 0.0553 - val_accuracy: 0.9949\n",
            "\n",
            "Epoch 00034: val_accuracy did not improve from 0.99532\n",
            "Epoch 35/75\n",
            "1122/1122 [==============================] - 4s 4ms/step - loss: 0.0876 - accuracy: 0.9846 - val_loss: 0.0686 - val_accuracy: 0.9942\n",
            "\n",
            "Epoch 00035: val_accuracy did not improve from 0.99532\n",
            "Epoch 36/75\n",
            "1122/1122 [==============================] - 4s 4ms/step - loss: 0.1130 - accuracy: 0.9827 - val_loss: 0.0708 - val_accuracy: 0.9949\n",
            "\n",
            "Epoch 00036: val_accuracy did not improve from 0.99532\n",
            "Epoch 37/75\n",
            "1122/1122 [==============================] - 4s 4ms/step - loss: 0.1235 - accuracy: 0.9845 - val_loss: 0.0883 - val_accuracy: 0.9938\n",
            "\n",
            "Epoch 00037: val_accuracy did not improve from 0.99532\n",
            "Epoch 38/75\n",
            "1122/1122 [==============================] - 4s 4ms/step - loss: 0.1010 - accuracy: 0.9829 - val_loss: 0.0662 - val_accuracy: 0.9949\n",
            "\n",
            "Epoch 00038: val_accuracy did not improve from 0.99532\n",
            "Epoch 39/75\n",
            "1122/1122 [==============================] - 4s 4ms/step - loss: 0.1128 - accuracy: 0.9811 - val_loss: 0.0718 - val_accuracy: 0.9922\n",
            "\n",
            "Epoch 00039: val_accuracy did not improve from 0.99532\n",
            "Epoch 40/75\n",
            "1122/1122 [==============================] - 4s 4ms/step - loss: 0.1008 - accuracy: 0.9848 - val_loss: 0.0665 - val_accuracy: 0.9931\n",
            "\n",
            "Epoch 00040: val_accuracy did not improve from 0.99532\n",
            "Epoch 41/75\n",
            "1122/1122 [==============================] - 4s 4ms/step - loss: 0.0860 - accuracy: 0.9854 - val_loss: 0.0693 - val_accuracy: 0.9949\n",
            "\n",
            "Epoch 00041: val_accuracy did not improve from 0.99532\n",
            "Epoch 42/75\n",
            "1122/1122 [==============================] - 4s 4ms/step - loss: 0.0952 - accuracy: 0.9850 - val_loss: 0.0683 - val_accuracy: 0.9946\n",
            "\n",
            "Epoch 00042: val_accuracy did not improve from 0.99532\n",
            "Epoch 43/75\n",
            "1122/1122 [==============================] - 4s 4ms/step - loss: 0.1062 - accuracy: 0.9864 - val_loss: 0.0666 - val_accuracy: 0.9951\n",
            "\n",
            "Epoch 00043: val_accuracy did not improve from 0.99532\n",
            "Epoch 44/75\n",
            "1122/1122 [==============================] - 4s 4ms/step - loss: 0.1097 - accuracy: 0.9836 - val_loss: 0.0802 - val_accuracy: 0.9940\n",
            "\n",
            "Epoch 00044: val_accuracy did not improve from 0.99532\n",
            "Epoch 45/75\n",
            "1122/1122 [==============================] - 4s 4ms/step - loss: 0.1110 - accuracy: 0.9844 - val_loss: 0.0959 - val_accuracy: 0.9940\n",
            "\n",
            "Epoch 00045: val_accuracy did not improve from 0.99532\n",
            "Epoch 46/75\n",
            "1122/1122 [==============================] - 4s 4ms/step - loss: 0.1277 - accuracy: 0.9837 - val_loss: 0.0822 - val_accuracy: 0.9929\n",
            "\n",
            "Epoch 00046: val_accuracy did not improve from 0.99532\n",
            "Epoch 47/75\n",
            "1122/1122 [==============================] - 4s 4ms/step - loss: 0.1061 - accuracy: 0.9844 - val_loss: 0.0684 - val_accuracy: 0.9946\n",
            "\n",
            "Epoch 00047: val_accuracy did not improve from 0.99532\n",
            "Epoch 48/75\n",
            "1122/1122 [==============================] - 4s 4ms/step - loss: 0.0938 - accuracy: 0.9836 - val_loss: 0.1023 - val_accuracy: 0.9918\n",
            "\n",
            "Epoch 00048: val_accuracy did not improve from 0.99532\n",
            "Epoch 49/75\n",
            "1122/1122 [==============================] - 5s 4ms/step - loss: 0.1359 - accuracy: 0.9815 - val_loss: 0.0779 - val_accuracy: 0.9944\n",
            "\n",
            "Epoch 00049: val_accuracy did not improve from 0.99532\n",
            "Epoch 50/75\n",
            "1122/1122 [==============================] - 4s 4ms/step - loss: 0.1090 - accuracy: 0.9850 - val_loss: 0.1124 - val_accuracy: 0.9929\n",
            "\n",
            "Epoch 00050: val_accuracy did not improve from 0.99532\n",
            "Epoch 51/75\n",
            "1122/1122 [==============================] - 4s 4ms/step - loss: 0.1131 - accuracy: 0.9851 - val_loss: 0.0917 - val_accuracy: 0.9938\n",
            "\n",
            "Epoch 00051: val_accuracy did not improve from 0.99532\n",
            "Epoch 52/75\n",
            "1122/1122 [==============================] - 4s 4ms/step - loss: 0.0936 - accuracy: 0.9873 - val_loss: 0.0750 - val_accuracy: 0.9942\n",
            "\n",
            "Epoch 00052: val_accuracy did not improve from 0.99532\n",
            "Epoch 53/75\n",
            "1122/1122 [==============================] - 4s 4ms/step - loss: 0.0819 - accuracy: 0.9881 - val_loss: 0.0724 - val_accuracy: 0.9946\n",
            "\n",
            "Epoch 00053: val_accuracy did not improve from 0.99532\n",
            "Epoch 54/75\n",
            "1122/1122 [==============================] - 4s 4ms/step - loss: 0.1036 - accuracy: 0.9870 - val_loss: 0.0827 - val_accuracy: 0.9940\n",
            "\n",
            "Epoch 00054: val_accuracy did not improve from 0.99532\n",
            "Epoch 55/75\n",
            "1122/1122 [==============================] - 4s 4ms/step - loss: 0.1259 - accuracy: 0.9862 - val_loss: 0.0954 - val_accuracy: 0.9911\n",
            "\n",
            "Epoch 00055: val_accuracy did not improve from 0.99532\n",
            "Epoch 56/75\n",
            "1122/1122 [==============================] - 5s 4ms/step - loss: 0.1121 - accuracy: 0.9870 - val_loss: 0.0734 - val_accuracy: 0.9946\n",
            "\n",
            "Epoch 00056: val_accuracy did not improve from 0.99532\n",
            "Epoch 57/75\n",
            "1122/1122 [==============================] - 4s 4ms/step - loss: 0.1152 - accuracy: 0.9835 - val_loss: 0.0753 - val_accuracy: 0.9953\n",
            "\n",
            "Epoch 00057: val_accuracy did not improve from 0.99532\n",
            "Epoch 58/75\n",
            "1122/1122 [==============================] - 4s 4ms/step - loss: 0.1305 - accuracy: 0.9850 - val_loss: 0.0722 - val_accuracy: 0.9940\n",
            "\n",
            "Epoch 00058: val_accuracy did not improve from 0.99532\n",
            "Epoch 59/75\n",
            "1122/1122 [==============================] - 4s 4ms/step - loss: 0.0992 - accuracy: 0.9848 - val_loss: 0.0893 - val_accuracy: 0.9933\n",
            "\n",
            "Epoch 00059: val_accuracy did not improve from 0.99532\n",
            "Epoch 60/75\n",
            "1122/1122 [==============================] - 4s 4ms/step - loss: 0.1079 - accuracy: 0.9865 - val_loss: 0.0925 - val_accuracy: 0.9951\n",
            "\n",
            "Epoch 00060: val_accuracy did not improve from 0.99532\n",
            "Epoch 61/75\n",
            "1122/1122 [==============================] - 4s 4ms/step - loss: 0.1013 - accuracy: 0.9853 - val_loss: 0.0737 - val_accuracy: 0.9949\n",
            "\n",
            "Epoch 00061: val_accuracy did not improve from 0.99532\n",
            "Epoch 62/75\n",
            "1122/1122 [==============================] - 4s 4ms/step - loss: 0.1360 - accuracy: 0.9867 - val_loss: 0.0996 - val_accuracy: 0.9931\n",
            "\n",
            "Epoch 00062: val_accuracy did not improve from 0.99532\n",
            "Epoch 63/75\n",
            "1122/1122 [==============================] - 4s 4ms/step - loss: 0.0972 - accuracy: 0.9871 - val_loss: 0.0769 - val_accuracy: 0.9960\n",
            "\n",
            "Epoch 00063: val_accuracy improved from 0.99532 to 0.99599, saving model to /kaggle/working/model/vgg16/distracted-63-1.00.hdf5\n",
            "Epoch 64/75\n",
            "1122/1122 [==============================] - 5s 4ms/step - loss: 0.1097 - accuracy: 0.9850 - val_loss: 0.0615 - val_accuracy: 0.9955\n",
            "\n",
            "Epoch 00064: val_accuracy did not improve from 0.99599\n",
            "Epoch 65/75\n",
            "1122/1122 [==============================] - 4s 4ms/step - loss: 0.0936 - accuracy: 0.9867 - val_loss: 0.0906 - val_accuracy: 0.9951\n",
            "\n",
            "Epoch 00065: val_accuracy did not improve from 0.99599\n",
            "Epoch 66/75\n",
            "1122/1122 [==============================] - 4s 4ms/step - loss: 0.0933 - accuracy: 0.9886 - val_loss: 0.0972 - val_accuracy: 0.9931\n",
            "\n",
            "Epoch 00066: val_accuracy did not improve from 0.99599\n",
            "Epoch 67/75\n",
            "1122/1122 [==============================] - 4s 4ms/step - loss: 0.0918 - accuracy: 0.9880 - val_loss: 0.0718 - val_accuracy: 0.9960\n",
            "\n",
            "Epoch 00067: val_accuracy did not improve from 0.99599\n",
            "Epoch 68/75\n",
            "1122/1122 [==============================] - 4s 4ms/step - loss: 0.0670 - accuracy: 0.9912 - val_loss: 0.0848 - val_accuracy: 0.9955\n",
            "\n",
            "Epoch 00068: val_accuracy did not improve from 0.99599\n",
            "Epoch 69/75\n",
            "1122/1122 [==============================] - 4s 4ms/step - loss: 0.0858 - accuracy: 0.9869 - val_loss: 0.0803 - val_accuracy: 0.9953\n",
            "\n",
            "Epoch 00069: val_accuracy did not improve from 0.99599\n",
            "Epoch 70/75\n",
            "1122/1122 [==============================] - 4s 4ms/step - loss: 0.1383 - accuracy: 0.9864 - val_loss: 0.0918 - val_accuracy: 0.9951\n",
            "\n",
            "Epoch 00070: val_accuracy did not improve from 0.99599\n",
            "Epoch 71/75\n",
            "1122/1122 [==============================] - 4s 4ms/step - loss: 0.0976 - accuracy: 0.9883 - val_loss: 0.0788 - val_accuracy: 0.9953\n",
            "\n",
            "Epoch 00071: val_accuracy did not improve from 0.99599\n",
            "Epoch 72/75\n",
            "1122/1122 [==============================] - 4s 4ms/step - loss: 0.1146 - accuracy: 0.9872 - val_loss: 0.1230 - val_accuracy: 0.9924\n",
            "\n",
            "Epoch 00072: val_accuracy did not improve from 0.99599\n",
            "Epoch 73/75\n",
            "1122/1122 [==============================] - 4s 4ms/step - loss: 0.1094 - accuracy: 0.9854 - val_loss: 0.1204 - val_accuracy: 0.9935\n",
            "\n",
            "Epoch 00073: val_accuracy did not improve from 0.99599\n",
            "Epoch 74/75\n",
            "1122/1122 [==============================] - 4s 4ms/step - loss: 0.1018 - accuracy: 0.9883 - val_loss: 0.1050 - val_accuracy: 0.9946\n",
            "\n",
            "Epoch 00074: val_accuracy did not improve from 0.99599\n",
            "Epoch 75/75\n",
            "1122/1122 [==============================] - 4s 4ms/step - loss: 0.0913 - accuracy: 0.9892 - val_loss: 0.0997 - val_accuracy: 0.9955\n",
            "\n",
            "Epoch 00075: val_accuracy did not improve from 0.99599\n"
          ],
          "name": "stdout"
        }
      ]
    },
    {
      "cell_type": "code",
      "metadata": {
        "execution": {
          "iopub.status.busy": "2021-05-28T14:36:00.455667Z",
          "iopub.execute_input": "2021-05-28T14:36:00.456212Z",
          "iopub.status.idle": "2021-05-28T14:36:11.335811Z",
          "shell.execute_reply.started": "2021-05-28T14:36:00.456156Z",
          "shell.execute_reply": "2021-05-28T14:36:11.334859Z"
        },
        "trusted": true,
        "id": "eOqEJY2UlGO6",
        "outputId": "8970a24b-4777-432b-8165-04f80b3ecd80"
      },
      "source": [
        "fig, (ax1, ax2) = plt.subplots(2, 1, figsize=(12, 12))\n",
        "ax1.plot(model_history.history['loss'], color='b', label=\"Training loss\")\n",
        "ax1.plot(model_history.history['val_loss'], color='r', label=\"validation loss\")\n",
        "ax1.set_xticks(np.arange(1, 400, 1))\n",
        "ax1.set_yticks(np.arange(0, 1, 0.1))\n",
        "\n",
        "ax2.plot(model_history.history['accuracy'], color='b', label=\"Training accuracy\")\n",
        "ax2.plot(model_history.history['val_accuracy'], color='r',label=\"Validation accuracy\")\n",
        "ax2.set_xticks(np.arange(1, 400, 1))\n",
        "\n",
        "legend = plt.legend(loc='best', shadow=True)\n",
        "plt.tight_layout()\n",
        "plt.show()"
      ],
      "execution_count": null,
      "outputs": [
        {
          "output_type": "display_data",
          "data": {
            "text/plain": [
              "<Figure size 864x864 with 2 Axes>"
            ],
            "image/png": "[encoded data removed]"
          },
          "metadata": {
            "tags": [],
            "needs_background": "light"
          }
        }
      ]
    },
    {
      "cell_type": "markdown",
      "metadata": {
        "id": "QTsN4UXolGO6"
      },
      "source": [
        "# Model Analysis\n",
        "Finding the Confusion matrix,Precision,Recall and F1 score to analyse the model thus created"
      ]
    },
    {
      "cell_type": "code",
      "metadata": {
        "execution": {
          "iopub.status.busy": "2021-05-28T14:36:11.337439Z",
          "iopub.execute_input": "2021-05-28T14:36:11.337778Z",
          "iopub.status.idle": "2021-05-28T14:36:11.346443Z",
          "shell.execute_reply.started": "2021-05-28T14:36:11.337741Z",
          "shell.execute_reply": "2021-05-28T14:36:11.345338Z"
        },
        "trusted": true,
        "id": "eY5dLrHZlGO6"
      },
      "source": [
        "def print_confusion_matrix(confusion_matrix, class_names, figsize = (10,7), fontsize=14):\n",
        "    df_cm = pd.DataFrame(\n",
        "        confusion_matrix, index=class_names, columns=class_names, \n",
        "    )\n",
        "    fig = plt.figure(figsize=figsize)\n",
        "    try:\n",
        "        heatmap = sns.heatmap(df_cm, annot=True, fmt=\"d\")\n",
        "    except ValueError:\n",
        "        raise ValueError(\"Confusion matrix values must be integers.\")\n",
        "    heatmap.yaxis.set_ticklabels(heatmap.yaxis.get_ticklabels(), rotation=0, ha='right', fontsize=fontsize)\n",
        "    heatmap.xaxis.set_ticklabels(heatmap.xaxis.get_ticklabels(), rotation=45, ha='right', fontsize=fontsize)\n",
        "    plt.ylabel('True label')\n",
        "    plt.xlabel('Predicted label')\n",
        "    fig.savefig(os.path.join(MODEL_PATH,\"confusion_matrix.png\"))\n",
        "    return fig"
      ],
      "execution_count": null,
      "outputs": []
    },
    {
      "cell_type": "code",
      "metadata": {
        "execution": {
          "iopub.status.busy": "2021-05-28T14:36:11.348303Z",
          "iopub.execute_input": "2021-05-28T14:36:11.348731Z",
          "iopub.status.idle": "2021-05-28T14:36:11.357652Z",
          "shell.execute_reply.started": "2021-05-28T14:36:11.348695Z",
          "shell.execute_reply": "2021-05-28T14:36:11.356881Z"
        },
        "trusted": true,
        "id": "YCiHq6ZnlGO6"
      },
      "source": [
        "def print_heatmap(n_labels, n_predictions, class_names):\n",
        "    labels = n_labels #sess.run(tf.argmax(n_labels, 1))\n",
        "    predictions = n_predictions #sess.run(tf.argmax(n_predictions, 1))\n",
        "\n",
        "#     confusion_matrix = sess.run(tf.contrib.metrics.confusion_matrix(labels, predictions))\n",
        "    matrix = confusion_matrix(labels.argmax(axis=1),predictions.argmax(axis=1))\n",
        "    row_sum = np.sum(matrix, axis = 1)\n",
        "    w, h = matrix.shape\n",
        "\n",
        "    c_m = np.zeros((w, h))\n",
        "\n",
        "    for i in range(h):\n",
        "        c_m[i] = matrix[i] * 100 / row_sum[i]\n",
        "\n",
        "    c = c_m.astype(dtype = np.uint8)\n",
        "\n",
        "    \n",
        "    heatmap = print_confusion_matrix(c, class_names, figsize=(18,10), fontsize=20)"
      ],
      "execution_count": null,
      "outputs": []
    },
    {
      "cell_type": "code",
      "metadata": {
        "execution": {
          "iopub.status.busy": "2021-05-28T14:36:11.359546Z",
          "iopub.execute_input": "2021-05-28T14:36:11.360027Z",
          "iopub.status.idle": "2021-05-28T14:36:12.054465Z",
          "shell.execute_reply.started": "2021-05-28T14:36:11.359977Z",
          "shell.execute_reply": "2021-05-28T14:36:12.053561Z"
        },
        "trusted": true,
        "id": "tS9kJnLZlGO7",
        "outputId": "8b73a699-a641-42d9-b494-7ee17736ba35"
      },
      "source": [
        "class_names = list()\n",
        "for name,idx in labels_id.items():\n",
        "    class_names.append(name)\n",
        "# print(class_names)\n",
        "ypred = vgg16_model_modified.predict(valid_vgg16,verbose=1)"
      ],
      "execution_count": null,
      "outputs": [
        {
          "output_type": "stream",
          "text": [
            "141/141 [==============================] - 0s 2ms/step\n"
          ],
          "name": "stdout"
        }
      ]
    },
    {
      "cell_type": "markdown",
      "metadata": {
        "id": "LY0yE7TelGO7"
      },
      "source": [
        "## Confusion Matrix"
      ]
    },
    {
      "cell_type": "code",
      "metadata": {
        "execution": {
          "iopub.status.busy": "2021-05-28T14:36:12.056902Z",
          "iopub.execute_input": "2021-05-28T14:36:12.057276Z",
          "iopub.status.idle": "2021-05-28T14:36:12.954172Z",
          "shell.execute_reply.started": "2021-05-28T14:36:12.057236Z",
          "shell.execute_reply": "2021-05-28T14:36:12.953248Z"
        },
        "trusted": true,
        "id": "sxK4zP9ilGO8",
        "outputId": "b79a8246-d1be-446c-f328-04c974d921fe"
      },
      "source": [
        "print_heatmap(ytest,ypred,class_names)"
      ],
      "execution_count": null,
      "outputs": [
        {
          "output_type": "display_data",
          "data": {
            "text/plain": [
              "<Figure size 1296x720 with 2 Axes>"
            ],
            "image/png": "[encoded data removed]"
          },
          "metadata": {
            "tags": [],
            "needs_background": "light"
          }
        }
      ]
    },
    {
      "cell_type": "markdown",
      "metadata": {
        "id": "eQWgFCqFlGO8"
      },
      "source": [
        "# Precision Recall F1 Score"
      ]
    },
    {
      "cell_type": "code",
      "metadata": {
        "execution": {
          "iopub.status.busy": "2021-05-28T14:36:12.956006Z",
          "iopub.execute_input": "2021-05-28T14:36:12.956376Z",
          "iopub.status.idle": "2021-05-28T14:36:12.961278Z",
          "shell.execute_reply.started": "2021-05-28T14:36:12.956338Z",
          "shell.execute_reply": "2021-05-28T14:36:12.960229Z"
        },
        "trusted": true,
        "id": "Oqy1poLflGO8"
      },
      "source": [
        "ypred_class = np.argmax(ypred,axis=1)\n",
        "# print(ypred_class[:10])\n",
        "ytest = np.argmax(ytest,axis=1)"
      ],
      "execution_count": null,
      "outputs": []
    },
    {
      "cell_type": "code",
      "metadata": {
        "execution": {
          "iopub.status.busy": "2021-05-28T14:36:12.963032Z",
          "iopub.execute_input": "2021-05-28T14:36:12.963482Z",
          "iopub.status.idle": "2021-05-28T14:36:12.991830Z",
          "shell.execute_reply.started": "2021-05-28T14:36:12.963365Z",
          "shell.execute_reply": "2021-05-28T14:36:12.990828Z"
        },
        "trusted": true,
        "id": "D_HFxGG_lGO8",
        "outputId": "3aac9a69-a8f4-4933-eab7-a4d8037852e1"
      },
      "source": [
        "accuracy = accuracy_score(ytest,ypred_class)\n",
        "print('Accuracy: %f' % accuracy)\n",
        "# precision tp / (tp + fp)\n",
        "precision = precision_score(ytest, ypred_class,average='weighted')\n",
        "print('Precision: %f' % precision)\n",
        "# recall: tp / (tp + fn)\n",
        "recall = recall_score(ytest,ypred_class,average='weighted')\n",
        "print('Recall: %f' % recall)\n",
        "# f1: 2 tp / (2 tp + fp + fn)\n",
        "f1 = f1_score(ytest,ypred_class,average='weighted')\n",
        "print('F1 score: %f' % f1)"
      ],
      "execution_count": null,
      "outputs": [
        {
          "output_type": "stream",
          "text": [
            "Accuracy: 0.995541\n",
            "Precision: 0.995562\n",
            "Recall: 0.995541\n",
            "F1 score: 0.995539\n"
          ],
          "name": "stdout"
        }
      ]
    },
    {
      "cell_type": "code",
      "metadata": {
        "execution": {
          "iopub.status.busy": "2021-05-28T14:36:12.993252Z",
          "iopub.execute_input": "2021-05-28T14:36:12.993590Z",
          "iopub.status.idle": "2021-05-28T14:36:12.998113Z",
          "shell.execute_reply.started": "2021-05-28T14:36:12.993553Z",
          "shell.execute_reply": "2021-05-28T14:36:12.997059Z"
        },
        "trusted": true,
        "id": "k__nkiGxlGO8"
      },
      "source": [
        "import tensorflow as tf\n"
      ],
      "execution_count": null,
      "outputs": []
    },
    {
      "cell_type": "code",
      "metadata": {
        "execution": {
          "iopub.status.busy": "2021-05-28T14:36:12.999889Z",
          "iopub.execute_input": "2021-05-28T14:36:13.000386Z",
          "iopub.status.idle": "2021-05-28T14:36:14.206657Z",
          "shell.execute_reply.started": "2021-05-28T14:36:13.000349Z",
          "shell.execute_reply": "2021-05-28T14:36:14.205770Z"
        },
        "trusted": true,
        "id": "eExUpMi4lGO9"
      },
      "source": [
        "#save model h5 \n",
        "vgg16_model_modified.save(\"model.h5\")\n",
        "# Convert the model to tensorflow lite \n",
        "converter = tf.lite.TFLiteConverter.from_keras_model(vgg16_model_modified)\n",
        "tfmodel = converter.convert()\n",
        "# Save the model.\n",
        "with open('model.tflite', 'wb') as f:\n",
        "  f.write(tfmodel)"
      ],
      "execution_count": null,
      "outputs": []
    }
  ]
}